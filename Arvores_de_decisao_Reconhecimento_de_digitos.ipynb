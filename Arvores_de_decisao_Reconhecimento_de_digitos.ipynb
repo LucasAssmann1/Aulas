{
  "cells": [
    {
      "cell_type": "markdown",
      "metadata": {
        "id": "view-in-github",
        "colab_type": "text"
      },
      "source": [
        "<a href=\"https://colab.research.google.com/github/LucasAssmann1/Aulas/blob/main/Arvores_de_decisao_Reconhecimento_de_digitos.ipynb\" target=\"_parent\"><img src=\"https://colab.research.google.com/assets/colab-badge.svg\" alt=\"Open In Colab\"/></a>"
      ]
    },
    {
      "cell_type": "markdown",
      "id": "37c32113",
      "metadata": {
        "id": "37c32113"
      },
      "source": [
        "# Árvores de Decisão - Reconhecimento de dígitos"
      ]
    },
    {
      "cell_type": "markdown",
      "id": "4680fadc",
      "metadata": {
        "id": "4680fadc"
      },
      "source": [
        "Bibliotecas necessárias\n",
        "- Scikit-Learn\n",
        "- Matplotlib\n",
        "- Gradio\n",
        "- OpenCV\n",
        "\n",
        "`pip3 install scikit-learn matplotlib gradio opencv-python`"
      ]
    },
    {
      "cell_type": "code",
      "source": [
        "!pip3 install scikit-learn matplotlib gradio opencv-python"
      ],
      "metadata": {
        "id": "OpqlCMnKwbU7"
      },
      "id": "OpqlCMnKwbU7",
      "execution_count": null,
      "outputs": []
    },
    {
      "cell_type": "markdown",
      "id": "8841daf5",
      "metadata": {
        "id": "8841daf5"
      },
      "source": [
        "```python\n",
        "import matplotlib.pyplot as plt\n",
        "```"
      ]
    },
    {
      "cell_type": "code",
      "execution_count": null,
      "id": "b95b800e",
      "metadata": {
        "id": "b95b800e"
      },
      "outputs": [],
      "source": [
        "import matplotlib.pyplot as plt"
      ]
    },
    {
      "cell_type": "markdown",
      "id": "e77831fd",
      "metadata": {
        "id": "e77831fd"
      },
      "source": [
        "## Base de dados"
      ]
    },
    {
      "cell_type": "markdown",
      "id": "fd405ae3",
      "metadata": {
        "id": "fd405ae3"
      },
      "source": [
        "Importando a base: \n",
        "```python\n",
        "from sklearn.datasets import fetch_openml\n",
        "```"
      ]
    },
    {
      "cell_type": "code",
      "execution_count": null,
      "id": "b3c48790",
      "metadata": {
        "id": "b3c48790"
      },
      "outputs": [],
      "source": []
    },
    {
      "cell_type": "markdown",
      "id": "5e745f82",
      "metadata": {
        "id": "5e745f82"
      },
      "source": [
        "Carregando a base:  \n",
        "```python\n",
        "mnist = fetch_openml('mnist_784')\n",
        "```"
      ]
    },
    {
      "cell_type": "code",
      "execution_count": null,
      "id": "a43857de",
      "metadata": {
        "id": "a43857de"
      },
      "outputs": [],
      "source": []
    },
    {
      "cell_type": "markdown",
      "id": "22ea9ae9",
      "metadata": {
        "id": "22ea9ae9"
      },
      "source": [
        "Observando o conteúdo da base:  \n",
        "```python\n",
        "dir(mnist)\n",
        "```"
      ]
    },
    {
      "cell_type": "code",
      "execution_count": null,
      "id": "df518b31",
      "metadata": {
        "id": "df518b31"
      },
      "outputs": [],
      "source": []
    },
    {
      "cell_type": "markdown",
      "id": "4e4ce3a5",
      "metadata": {
        "id": "4e4ce3a5"
      },
      "source": [
        "Na estrutura carregada, `data` possui os pixels da imagem, e `target` possui os valores.\n",
        "\n",
        "Observe:  \n",
        "```python\n",
        "mnist.data.head()\n",
        "```\n",
        "\n",
        "e \n",
        "```python\n",
        "mnist.target.head()\n",
        "```"
      ]
    },
    {
      "cell_type": "code",
      "execution_count": null,
      "id": "4863511a",
      "metadata": {
        "id": "4863511a"
      },
      "outputs": [],
      "source": []
    },
    {
      "cell_type": "code",
      "execution_count": null,
      "id": "c0d2a845",
      "metadata": {
        "id": "c0d2a845"
      },
      "outputs": [],
      "source": []
    },
    {
      "cell_type": "markdown",
      "id": "27f4989f",
      "metadata": {
        "id": "27f4989f"
      },
      "source": [
        "Podemos também plotar os pixels. Observe a semelhança com o apresentado na matrix acima.  \n",
        "```python\n",
        "plt.imshow(mnist.data[0:1].to_numpy().reshape((28,28)), cmap='binary')\n",
        "```"
      ]
    },
    {
      "cell_type": "code",
      "execution_count": null,
      "id": "eff8d999",
      "metadata": {
        "id": "eff8d999"
      },
      "outputs": [],
      "source": []
    },
    {
      "cell_type": "markdown",
      "id": "7870778b",
      "metadata": {
        "id": "7870778b"
      },
      "source": [
        "Observe algum outro número presente na base:\n",
        "\n",
        "```python\n",
        "n=0 #Enésimo número na base\n",
        "plt.imshow(mnist.data[n:n+1].to_numpy().reshape((28,28)), cmap='binary')\n",
        "plt.title(mnist.target[n])\n",
        "plt.axis('off')\n",
        "plt.show()\n",
        "```"
      ]
    },
    {
      "cell_type": "code",
      "execution_count": null,
      "id": "39d952da",
      "metadata": {
        "id": "39d952da"
      },
      "outputs": [],
      "source": []
    },
    {
      "cell_type": "markdown",
      "id": "e16e6899",
      "metadata": {
        "id": "e16e6899"
      },
      "source": [
        "## Preparando as entradas de dados"
      ]
    },
    {
      "cell_type": "markdown",
      "id": "fc68f854",
      "metadata": {
        "id": "fc68f854"
      },
      "source": [
        "```python\n",
        "from sklearn.model_selection import train_test_split\n",
        "```"
      ]
    },
    {
      "cell_type": "code",
      "execution_count": null,
      "id": "e4ce18d1",
      "metadata": {
        "id": "e4ce18d1"
      },
      "outputs": [],
      "source": []
    },
    {
      "cell_type": "markdown",
      "id": "cce43d94",
      "metadata": {
        "id": "cce43d94"
      },
      "source": [
        "Separando os dados em treino e teste:\n",
        "\n",
        "```python\n",
        "porcent_test = 0.3\n",
        "X_train, X_test, y_train, y_test = train_test_split(mnist.data, mnist.target, test_size=porcent_test, random_state=42)\n",
        "```"
      ]
    },
    {
      "cell_type": "code",
      "execution_count": null,
      "id": "120bdb06",
      "metadata": {
        "id": "120bdb06"
      },
      "outputs": [],
      "source": []
    },
    {
      "cell_type": "code",
      "execution_count": null,
      "id": "c185b20b",
      "metadata": {
        "id": "c185b20b"
      },
      "outputs": [],
      "source": []
    },
    {
      "cell_type": "markdown",
      "id": "6ec09e63",
      "metadata": {
        "id": "6ec09e63"
      },
      "source": [
        "## A árvore"
      ]
    },
    {
      "cell_type": "markdown",
      "id": "1016e76c",
      "metadata": {
        "id": "1016e76c"
      },
      "source": [
        "Importando o método e instanciando a árvores\n",
        "\n",
        "```python\n",
        "from sklearn import tree\n",
        "arv = tree.DecisionTreeClassifier() #árvore de classificação\n",
        "```"
      ]
    },
    {
      "cell_type": "code",
      "execution_count": null,
      "id": "e6322781",
      "metadata": {
        "id": "e6322781"
      },
      "outputs": [],
      "source": []
    },
    {
      "cell_type": "markdown",
      "id": "314cb650",
      "metadata": {
        "id": "314cb650"
      },
      "source": [
        "Gerando a árvore:\n",
        "```python\n",
        "%%time\n",
        "arv.fit(X_train,y_train)\n",
        "```"
      ]
    },
    {
      "cell_type": "code",
      "execution_count": null,
      "id": "3db6c443",
      "metadata": {
        "id": "3db6c443"
      },
      "outputs": [],
      "source": []
    },
    {
      "cell_type": "markdown",
      "id": "fcad1c7b",
      "metadata": {
        "id": "fcad1c7b"
      },
      "source": [
        "Testando a árvore:\n",
        "```python\n",
        "predictions = arv.predict(X_test)\n",
        "```"
      ]
    },
    {
      "cell_type": "code",
      "execution_count": null,
      "id": "c02f8b0d",
      "metadata": {
        "id": "c02f8b0d"
      },
      "outputs": [],
      "source": []
    },
    {
      "cell_type": "markdown",
      "id": "d319d36e",
      "metadata": {
        "id": "d319d36e"
      },
      "source": [
        "Observando qual a porcentagem de acertos da rede neural:\n",
        "```python\n",
        "from sklearn.metrics import accuracy_score\n",
        "accuracy_score(y_test, predictions)\n",
        "```"
      ]
    },
    {
      "cell_type": "code",
      "execution_count": null,
      "id": "5190ff7c",
      "metadata": {
        "id": "5190ff7c"
      },
      "outputs": [],
      "source": []
    },
    {
      "cell_type": "markdown",
      "id": "8af833ef",
      "metadata": {
        "id": "8af833ef"
      },
      "source": [
        "## Testando a Árvore com entrada definida manualmente"
      ]
    },
    {
      "cell_type": "markdown",
      "id": "cd1729ac",
      "metadata": {
        "id": "cd1729ac"
      },
      "source": [
        "Importando bibliotecas\n",
        "```python\n",
        "import gradio as gr\n",
        "import cv2\n",
        "```"
      ]
    },
    {
      "cell_type": "code",
      "execution_count": null,
      "id": "e4a2e200",
      "metadata": {
        "id": "e4a2e200"
      },
      "outputs": [],
      "source": []
    },
    {
      "cell_type": "markdown",
      "id": "0c7410de",
      "metadata": {
        "id": "0c7410de"
      },
      "source": [
        "Preparando a função que realiza a predição e retorna o resultado:\n",
        "```python\n",
        "def check_number_arvore(image):\n",
        "    #Redimensiona a imagem para o tamanho 28x28\n",
        "    image = cv2.resize(image, dsize=(28,28), interpolation=cv2.INTER_CUBIC)\n",
        "    #Prepara a imagem para o formato de entrada da árvore\n",
        "    image_flat = [image.flatten()]\n",
        "    #Realiza a predição com a árvore e retorna\n",
        "    res = arv.predict(image_flat)\n",
        "    return str(res[0])\n",
        "```"
      ]
    },
    {
      "cell_type": "code",
      "execution_count": null,
      "id": "f6698a58",
      "metadata": {
        "id": "f6698a58"
      },
      "outputs": [],
      "source": []
    },
    {
      "cell_type": "markdown",
      "id": "9b241687",
      "metadata": {
        "id": "9b241687"
      },
      "source": [
        "Passando a entrada via desenho com Gradio  \n",
        "\n",
        "```python\n",
        "with gr.Blocks() as demo:\n",
        "    image = gr.Interface(fn=check_number_arvore,\n",
        "                         inputs='sketchpad', #Entrada via escrita do usuário\n",
        "                         outputs='label', \n",
        "                         live=True) #Chama a função ao desenhar\n",
        "    \n",
        "demo.launch()\n",
        "```"
      ]
    },
    {
      "cell_type": "code",
      "execution_count": null,
      "id": "8b750e53",
      "metadata": {
        "scrolled": false,
        "id": "8b750e53"
      },
      "outputs": [],
      "source": []
    },
    {
      "cell_type": "markdown",
      "id": "97190a29",
      "metadata": {
        "id": "97190a29"
      },
      "source": [
        "## Referências\n",
        "\n",
        "### Outros materiais\n",
        "\n",
        "[DATAFROG. Handwritten Digit Recognition with scikit-learn.](https://thedatafrog.com/en/articles/handwritten-digit-recognition-scikit-learn/)\n",
        "\n"
      ]
    },
    {
      "cell_type": "code",
      "execution_count": null,
      "id": "f275b718",
      "metadata": {
        "id": "f275b718"
      },
      "outputs": [],
      "source": []
    }
  ],
  "metadata": {
    "kernelspec": {
      "display_name": "Python 3 (ipykernel)",
      "language": "python",
      "name": "python3"
    },
    "language_info": {
      "codemirror_mode": {
        "name": "ipython",
        "version": 3
      },
      "file_extension": ".py",
      "mimetype": "text/x-python",
      "name": "python",
      "nbconvert_exporter": "python",
      "pygments_lexer": "ipython3",
      "version": "3.8.9"
    },
    "colab": {
      "provenance": [],
      "collapsed_sections": [],
      "include_colab_link": true
    }
  },
  "nbformat": 4,
  "nbformat_minor": 5
}